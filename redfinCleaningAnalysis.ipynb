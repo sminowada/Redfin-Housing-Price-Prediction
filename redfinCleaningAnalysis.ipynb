{
 "cells": [
  {
   "cell_type": "markdown",
   "metadata": {},
   "source": [
    "# Data Cleaning for houses sold"
   ]
  },
  {
   "cell_type": "code",
   "execution_count": 46,
   "metadata": {},
   "outputs": [],
   "source": [
    "import pandas as pd\n",
    "\n",
    "sold_data = pd.read_csv('housesSold.csv')\n",
    "sold_data.drop(columns = ['Unnamed: 0'], inplace = True)\n",
    "\n",
    "sold_data['Price'] = sold_data['Price'].str.replace('$','')\n",
    "sold_data['Price'] = sold_data['Price'].str.replace(',','')\n",
    "sold_data['Square Ft'] = sold_data['Square Ft'].str.replace(',', '')\n",
    "sold_data['Lot Size'] = sold_data['Lot Size'].str.replace(' Sq. Ft.','')\n",
    "sold_data['Lot Size'] = sold_data['Lot Size'].str.replace(',','')\n",
    "sold_data.drop(sold_data[sold_data['Type'] != 'Single Family Residential'].index, inplace = True)"
   ]
  },
  {
   "cell_type": "code",
   "execution_count": 47,
   "metadata": {},
   "outputs": [
    {
     "data": {
      "text/html": [
       "<div>\n",
       "<style scoped>\n",
       "    .dataframe tbody tr th:only-of-type {\n",
       "        vertical-align: middle;\n",
       "    }\n",
       "\n",
       "    .dataframe tbody tr th {\n",
       "        vertical-align: top;\n",
       "    }\n",
       "\n",
       "    .dataframe thead th {\n",
       "        text-align: right;\n",
       "    }\n",
       "</style>\n",
       "<table border=\"1\" class=\"dataframe\">\n",
       "  <thead>\n",
       "    <tr style=\"text-align: right;\">\n",
       "      <th></th>\n",
       "      <th>Beds</th>\n",
       "      <th>Baths</th>\n",
       "      <th>Square Ft</th>\n",
       "      <th>Type</th>\n",
       "      <th>Year Built</th>\n",
       "      <th>Lot Size</th>\n",
       "      <th>Stories</th>\n",
       "      <th>Address</th>\n",
       "      <th>Price</th>\n",
       "    </tr>\n",
       "  </thead>\n",
       "  <tbody>\n",
       "    <tr>\n",
       "      <th>0</th>\n",
       "      <td>3</td>\n",
       "      <td>2.0</td>\n",
       "      <td>1727</td>\n",
       "      <td>Single Family Residential</td>\n",
       "      <td>1953</td>\n",
       "      <td>5616</td>\n",
       "      <td>1</td>\n",
       "      <td>1109 Woodside Rd, Berkeley, CA 94708</td>\n",
       "      <td>1462204</td>\n",
       "    </tr>\n",
       "    <tr>\n",
       "      <th>1</th>\n",
       "      <td>3</td>\n",
       "      <td>1.0</td>\n",
       "      <td>1425</td>\n",
       "      <td>Single Family Residential</td>\n",
       "      <td>1889</td>\n",
       "      <td>3300</td>\n",
       "      <td>1.5</td>\n",
       "      <td>2112 6Th St, Berkeley, CA 94710</td>\n",
       "      <td>1021963</td>\n",
       "    </tr>\n",
       "    <tr>\n",
       "      <th>2</th>\n",
       "      <td>4</td>\n",
       "      <td>2.0</td>\n",
       "      <td>1880</td>\n",
       "      <td>Single Family Residential</td>\n",
       "      <td>1927</td>\n",
       "      <td>4365</td>\n",
       "      <td>2</td>\n",
       "      <td>308 Vassar Ave, Kensington, CA 94708</td>\n",
       "      <td>1605499</td>\n",
       "    </tr>\n",
       "    <tr>\n",
       "      <th>5</th>\n",
       "      <td>3</td>\n",
       "      <td>1.0</td>\n",
       "      <td>1006</td>\n",
       "      <td>Single Family Residential</td>\n",
       "      <td>1944</td>\n",
       "      <td>5054</td>\n",
       "      <td>1</td>\n",
       "      <td>1518 Parker St, Berkeley, CA 94703</td>\n",
       "      <td>1056887</td>\n",
       "    </tr>\n",
       "    <tr>\n",
       "      <th>6</th>\n",
       "      <td>2</td>\n",
       "      <td>2.0</td>\n",
       "      <td>1848</td>\n",
       "      <td>Single Family Residential</td>\n",
       "      <td>1941</td>\n",
       "      <td>6240</td>\n",
       "      <td>1</td>\n",
       "      <td>2912 Russell St, Berkeley, CA 94705</td>\n",
       "      <td>1991223</td>\n",
       "    </tr>\n",
       "  </tbody>\n",
       "</table>\n",
       "</div>"
      ],
      "text/plain": [
       "  Beds  Baths Square Ft                       Type Year Built Lot Size  \\\n",
       "0    3    2.0      1727  Single Family Residential       1953     5616   \n",
       "1    3    1.0      1425  Single Family Residential       1889     3300   \n",
       "2    4    2.0      1880  Single Family Residential       1927     4365   \n",
       "5    3    1.0      1006  Single Family Residential       1944     5054   \n",
       "6    2    2.0      1848  Single Family Residential       1941     6240   \n",
       "\n",
       "  Stories                               Address    Price  \n",
       "0       1  1109 Woodside Rd, Berkeley, CA 94708  1462204  \n",
       "1     1.5       2112 6Th St, Berkeley, CA 94710  1021963  \n",
       "2       2  308 Vassar Ave, Kensington, CA 94708  1605499  \n",
       "5       1    1518 Parker St, Berkeley, CA 94703  1056887  \n",
       "6       1   2912 Russell St, Berkeley, CA 94705  1991223  "
      ]
     },
     "execution_count": 47,
     "metadata": {},
     "output_type": "execute_result"
    }
   ],
   "source": [
    "#getting rid of missing value entries\n",
    "\n",
    "df_filtered = sold_data[sold_data['Lot Size'] != '—']\n",
    "df_filtered = df_filtered[df_filtered['Stories'] != '—']\n",
    "df_filtered = df_filtered[df_filtered['Square Ft'] != '—']\n",
    "df_filtered = df_filtered[df_filtered['Beds'] != '—']\n",
    "\n",
    "df_filtered.head()"
   ]
  },
  {
   "cell_type": "code",
   "execution_count": 48,
   "metadata": {},
   "outputs": [],
   "source": [
    "#some listings are in acres so we need to standardize\n",
    "def standardize_lot(string):\n",
    "    if 'Acres' in string:\n",
    "        output = string[:len(string)-6]\n",
    "        output = float(output)\n",
    "        output *= 43560\n",
    "        output = int(output)\n",
    "    else:\n",
    "        output = int(string)\n",
    "    return output"
   ]
  },
  {
   "cell_type": "code",
   "execution_count": 49,
   "metadata": {},
   "outputs": [],
   "source": [
    "df_filtered['Lot Size'] = df_filtered['Lot Size'].apply(standardize_lot)\n",
    "\n",
    "df_filtered['Price'] = df_filtered['Price'].astype(float)\n",
    "df_filtered['Beds'] = df_filtered['Beds'].astype(float)\n",
    "df_filtered['Baths'] = df_filtered['Baths'].astype(float)\n",
    "df_filtered['Year Built'] = df_filtered['Year Built'].astype(float)\n",
    "df_filtered['Square Ft'] = df_filtered['Square Ft'].astype(float)\n",
    "df_filtered['Stories'] = df_filtered['Stories'].astype(float)"
   ]
  },
  {
   "cell_type": "markdown",
   "metadata": {},
   "source": [
    "# Data Cleaning for houses currently listed for sale"
   ]
  },
  {
   "cell_type": "code",
   "execution_count": 50,
   "metadata": {},
   "outputs": [],
   "source": [
    "lst_data = pd.read_csv('forSale.csv')\n",
    "lst_data.drop(columns = ['Unnamed: 0'], inplace = True)\n",
    "\n",
    "lst_data['Price'] = lst_data['Price'].str.replace('$','')\n",
    "lst_data['Price'] = lst_data['Price'].str.replace(',','')\n",
    "lst_data['Square Ft'] = lst_data['Square Ft'].str.replace(',', '')\n",
    "lst_data['Lot Size'] = lst_data['Lot Size'].str.replace(' Sq. Ft.','')\n",
    "lst_data['Lot Size'] = lst_data['Lot Size'].str.replace(',','')\n",
    "lst_data.drop(lst_data[lst_data['Type'] != 'Single Family Residential'].index, inplace = True)"
   ]
  },
  {
   "cell_type": "code",
   "execution_count": 51,
   "metadata": {},
   "outputs": [],
   "source": [
    "for_sale = lst_data[lst_data['Lot Size'] != '—']\n",
    "for_sale = for_sale[for_sale['Stories'] != '—']\n",
    "for_sale = for_sale[for_sale['Square Ft'] != '—']\n",
    "for_sale = for_sale[for_sale['Beds'] != '—']"
   ]
  },
  {
   "cell_type": "code",
   "execution_count": 52,
   "metadata": {},
   "outputs": [],
   "source": [
    "for_sale['Lot Size'] = for_sale['Lot Size'].apply(standardize_lot)\n",
    "\n",
    "for_sale['Price'] = for_sale['Price'].astype(float)\n",
    "for_sale['Beds'] = for_sale['Beds'].astype(float)\n",
    "for_sale['Baths'] = for_sale['Baths'].astype(float)\n",
    "for_sale['Year Built'] = for_sale['Year Built'].astype(float)\n",
    "for_sale['Square Ft'] = for_sale['Square Ft'].astype(float)\n",
    "for_sale['Stories'] = for_sale['Stories'].astype(float)"
   ]
  },
  {
   "cell_type": "code",
   "execution_count": 53,
   "metadata": {},
   "outputs": [
    {
     "data": {
      "text/plain": [
       "<bound method NDFrame.describe of     Beds  Baths  Square Ft                       Type  Year Built  Lot Size  \\\n",
       "4    4.0    2.0     1862.0  Single Family Residential      1910.0      4550   \n",
       "6    3.0    2.0     2630.0  Single Family Residential      2002.0      1939   \n",
       "10   3.0    2.0     1259.0  Single Family Residential      1930.0      5400   \n",
       "11   2.0    2.0     1023.0  Single Family Residential      1919.0      3334   \n",
       "13   6.0    3.5     2654.0  Single Family Residential      1927.0      3700   \n",
       "14   4.0    4.0     3569.0  Single Family Residential      1995.0      6552   \n",
       "17   3.0    2.0     1168.0  Single Family Residential      1905.0      4800   \n",
       "18   3.0    3.0     2773.0  Single Family Residential      1994.0     10672   \n",
       "19   6.0    4.0     4217.0  Single Family Residential      2001.0      8117   \n",
       "20   2.0    1.0      834.0  Single Family Residential      1927.0      1960   \n",
       "21   2.0    1.0      934.0  Single Family Residential      1921.0      3750   \n",
       "22   4.0    3.0     2140.0  Single Family Residential      1930.0      2880   \n",
       "23   3.0    3.0     2155.0  Single Family Residential      1920.0      4000   \n",
       "24   5.0    4.5     3943.0  Single Family Residential      2002.0      8319   \n",
       "25   3.0    3.0     1662.0  Single Family Residential      1946.0      5000   \n",
       "26   3.0    3.5     2218.0  Single Family Residential      1913.0      3608   \n",
       "27   3.0    2.0     1329.0  Single Family Residential      1917.0      4440   \n",
       "28   3.0    2.0     2066.0  Single Family Residential      1926.0      7850   \n",
       "29   3.0    2.0     1380.0  Single Family Residential      1964.0      4819   \n",
       "30   3.0    2.0     1758.0  Single Family Residential      1939.0      3577   \n",
       "31   3.0    2.0     1038.0  Single Family Residential      1924.0      4480   \n",
       "34   7.0    4.0     3294.0  Single Family Residential      1956.0      5922   \n",
       "35   4.0    2.0     1248.0  Single Family Residential      1922.0      2720   \n",
       "37   5.0    5.5     4419.0  Single Family Residential      1928.0     16117   \n",
       "38   4.0    2.5     1725.0  Single Family Residential      1950.0     11761   \n",
       "39   2.0    1.0     1470.0  Single Family Residential      1928.0      4160   \n",
       "41   2.0    1.0      663.0  Single Family Residential      1920.0      2058   \n",
       "43   2.0    3.0     2610.0  Single Family Residential      1962.0     14810   \n",
       "44   3.0    1.0     1296.0  Single Family Residential      1954.0      5040   \n",
       "45   2.0    1.0     1220.0  Single Family Residential      1919.0      3500   \n",
       "46   2.0    1.0      840.0  Single Family Residential      1925.0      3145   \n",
       "48   2.0    1.0      858.0  Single Family Residential      1920.0      4025   \n",
       "49   3.0    2.0     2284.0  Single Family Residential      1912.0      5687   \n",
       "50   4.0    3.0     2056.0  Single Family Residential      1907.0      6240   \n",
       "51   3.0    2.0     2147.0  Single Family Residential      1916.0      4000   \n",
       "52   3.0    1.5     1520.0  Single Family Residential      1917.0      3960   \n",
       "53   1.0    1.0      598.0  Single Family Residential      1925.0      1360   \n",
       "54   4.0    3.0     2607.0  Single Family Residential      1925.0      5100   \n",
       "56   3.0    2.0     1560.0  Single Family Residential      1925.0      5700   \n",
       "57   3.0    1.0     1617.0  Single Family Residential      1913.0      3901   \n",
       "58   3.0    1.5     1836.0  Single Family Residential      1922.0      5000   \n",
       "59   2.0    1.0     1214.0  Single Family Residential      1931.0      4200   \n",
       "60   4.0    3.0     2315.0  Single Family Residential      1935.0      5928   \n",
       "61   3.0    2.0     2055.0  Single Family Residential      1908.0      3500   \n",
       "62   2.0    2.0      832.0  Single Family Residential      1916.0      3535   \n",
       "63   6.0    3.0     3333.0  Single Family Residential      1906.0      6500   \n",
       "64   2.0    1.0      920.0  Single Family Residential      1919.0      2898   \n",
       "\n",
       "    Stories                                   Address      Price  \n",
       "4       1.0          2310 Tenth St,Berkeley, CA 94710  1599000.0  \n",
       "6       2.0    Undisclosed Address,Berkeley, CA 94710  1825000.0  \n",
       "10      1.0             814 60Th St,Oakland, CA 94608   850000.0  \n",
       "11      1.5         837 Hearst Ave,Berkeley, CA 94710   949000.0  \n",
       "13      2.0      1306 Channing Way,BERKELEY, CA 94702  1650000.0  \n",
       "14      2.0         122 Vicente Rd,Berkeley, CA 94705  2750000.0  \n",
       "17      1.0          2020 Blake St,Berkeley, CA 94704   975000.0  \n",
       "18      1.5            171 Vicente,Berkeley, CA 94705  2650000.0  \n",
       "19      2.5         252 Gravatt Dr,Berkeley, CA 94705  2950000.0  \n",
       "20      1.5     2443 Spaulding Ave,Berkeley, CA 95703   799950.0  \n",
       "21      1.0        1505 Russell St,Berkeley, CA 94703  1075000.0  \n",
       "22      1.0         2356 Marin Ave,Berkeley, CA 94708  1698000.0  \n",
       "23      2.0        3024 Stanton St,Berkeley, CA 94702  1499000.0  \n",
       "24      3.0       1215 Alvarado Rd,Berkeley, CA 94705  2900000.0  \n",
       "25      1.0           33 Avon Rd,Kensington, CA 94707  1649500.0  \n",
       "26      1.0       38 Panoramic Way,BERKELEY, CA 94704  1720000.0  \n",
       "27      1.0   1117 Channing Way SW,Berkeley, CA 94702   975000.0  \n",
       "28      1.5         1009 Keith Ave,Berkeley, CA 94708  1699900.0  \n",
       "29      1.5      1099 Sterling Ave,BERKELEY, CA 94708  1095000.0  \n",
       "30      1.0    975 Indian Rock Ave,Berkeley, CA 94707  1499000.0  \n",
       "31      1.0    Undisclosed Address,Berkeley, CA 94708  1500000.0  \n",
       "34      2.0    828 Indian Rock Ave,BERKELEY, CA 94707  2150000.0  \n",
       "35      2.0     2608 Sacramento St,Berkeley, CA 94702  1100000.0  \n",
       "37      2.0        284 The Uplands,Berkeley, CA 94705  3895000.0  \n",
       "38      1.0      7601 Claremont Ave,Oakland, CA 94705  1225000.0  \n",
       "39      1.5          3009 Acton St,Berkeley, CA 94702   925000.0  \n",
       "41      1.0        3200 Tremont St,Berkeley, CA 94703   769000.0  \n",
       "43      1.0   3025 Buena Vista Way,Berkeley, CA 94708  1950000.0  \n",
       "44      1.0  535 Grizzly Peak Blvd,Berkeley, CA 94708   898000.0  \n",
       "45      1.5        2414 Edwards St,Berkeley, CA 94702   985000.0  \n",
       "46      1.0          2430 Byron St,Berkeley, CA 94702   698000.0  \n",
       "48      1.0     2318 Sacramento St,Berkeley, CA 94702   858000.0  \n",
       "49      1.5         1827 Marin Ave,Berkeley, CA 94707  1400000.0  \n",
       "50      1.0      2933 Benvenue Ave,Berkeley, CA 94705  1995000.0  \n",
       "51      2.0      915 San Benito Rd,Berkeley, CA 94707  1395000.0  \n",
       "52      1.5         1617 Posen Ave,Berkeley, CA 94707  1399000.0  \n",
       "53      1.0          6319 Herzog St,Oakland, CA 94608   699000.0  \n",
       "54      1.0            453 boynton,Berkeley, CA 94707  1995000.0  \n",
       "56      2.0         567 Colusa Ave,Berkeley, CA 94707  1195000.0  \n",
       "57      1.5        1128 Amador Ave,Berkeley, CA 94707  1550000.0  \n",
       "58      2.0        1839 Tacoma Ave,Berkeley, CA 94707  1395000.0  \n",
       "59      1.0  1645 Ocean View Ave,Kensington, CA 94707  1050000.0  \n",
       "60      2.0          641 Spruce St,Berkeley, CA 94707  1495000.0  \n",
       "61      2.0          2752 Mabel St,Berkeley, CA 94702   899000.0  \n",
       "62      1.0     2428 Sacramento St,Berkeley, CA 94702   750000.0  \n",
       "63      1.5      2904 PIEDMONT Ave,Berkeley, CA 94705  1995000.0  \n",
       "64      1.5         1602 Jaynes St,Berkeley, CA 94703   849000.0  >"
      ]
     },
     "execution_count": 53,
     "metadata": {},
     "output_type": "execute_result"
    }
   ],
   "source": [
    "for_sale.describe"
   ]
  },
  {
   "cell_type": "markdown",
   "metadata": {},
   "source": [
    "# Data Analysis"
   ]
  },
  {
   "cell_type": "code",
   "execution_count": 54,
   "metadata": {},
   "outputs": [],
   "source": [
    "import matplotlib.pyplot as plt"
   ]
  },
  {
   "cell_type": "code",
   "execution_count": 55,
   "metadata": {},
   "outputs": [],
   "source": [
    "from sklearn.model_selection import train_test_split\n",
    "from sklearn.linear_model import LinearRegression\n",
    "\n",
    "#use these variables to try and predict price\n",
    "predictors = df_filtered[['Square Ft', 'Beds', 'Baths', 'Year Built', 'Lot Size', 'Stories']]\n",
    "target = df_filtered[['Price']]"
   ]
  },
  {
   "cell_type": "code",
   "execution_count": 56,
   "metadata": {},
   "outputs": [],
   "source": [
    "#split our data with 40% reserved for testing model\n",
    "X_train, X_test, y_train, y_test = train_test_split(predictors, target, test_size = .40, random_state = 21)"
   ]
  },
  {
   "cell_type": "code",
   "execution_count": 57,
   "metadata": {},
   "outputs": [
    {
     "data": {
      "text/html": [
       "<style>#sk-container-id-3 {color: black;}#sk-container-id-3 pre{padding: 0;}#sk-container-id-3 div.sk-toggleable {background-color: white;}#sk-container-id-3 label.sk-toggleable__label {cursor: pointer;display: block;width: 100%;margin-bottom: 0;padding: 0.3em;box-sizing: border-box;text-align: center;}#sk-container-id-3 label.sk-toggleable__label-arrow:before {content: \"▸\";float: left;margin-right: 0.25em;color: #696969;}#sk-container-id-3 label.sk-toggleable__label-arrow:hover:before {color: black;}#sk-container-id-3 div.sk-estimator:hover label.sk-toggleable__label-arrow:before {color: black;}#sk-container-id-3 div.sk-toggleable__content {max-height: 0;max-width: 0;overflow: hidden;text-align: left;background-color: #f0f8ff;}#sk-container-id-3 div.sk-toggleable__content pre {margin: 0.2em;color: black;border-radius: 0.25em;background-color: #f0f8ff;}#sk-container-id-3 input.sk-toggleable__control:checked~div.sk-toggleable__content {max-height: 200px;max-width: 100%;overflow: auto;}#sk-container-id-3 input.sk-toggleable__control:checked~label.sk-toggleable__label-arrow:before {content: \"▾\";}#sk-container-id-3 div.sk-estimator input.sk-toggleable__control:checked~label.sk-toggleable__label {background-color: #d4ebff;}#sk-container-id-3 div.sk-label input.sk-toggleable__control:checked~label.sk-toggleable__label {background-color: #d4ebff;}#sk-container-id-3 input.sk-hidden--visually {border: 0;clip: rect(1px 1px 1px 1px);clip: rect(1px, 1px, 1px, 1px);height: 1px;margin: -1px;overflow: hidden;padding: 0;position: absolute;width: 1px;}#sk-container-id-3 div.sk-estimator {font-family: monospace;background-color: #f0f8ff;border: 1px dotted black;border-radius: 0.25em;box-sizing: border-box;margin-bottom: 0.5em;}#sk-container-id-3 div.sk-estimator:hover {background-color: #d4ebff;}#sk-container-id-3 div.sk-parallel-item::after {content: \"\";width: 100%;border-bottom: 1px solid gray;flex-grow: 1;}#sk-container-id-3 div.sk-label:hover label.sk-toggleable__label {background-color: #d4ebff;}#sk-container-id-3 div.sk-serial::before {content: \"\";position: absolute;border-left: 1px solid gray;box-sizing: border-box;top: 0;bottom: 0;left: 50%;z-index: 0;}#sk-container-id-3 div.sk-serial {display: flex;flex-direction: column;align-items: center;background-color: white;padding-right: 0.2em;padding-left: 0.2em;position: relative;}#sk-container-id-3 div.sk-item {position: relative;z-index: 1;}#sk-container-id-3 div.sk-parallel {display: flex;align-items: stretch;justify-content: center;background-color: white;position: relative;}#sk-container-id-3 div.sk-item::before, #sk-container-id-3 div.sk-parallel-item::before {content: \"\";position: absolute;border-left: 1px solid gray;box-sizing: border-box;top: 0;bottom: 0;left: 50%;z-index: -1;}#sk-container-id-3 div.sk-parallel-item {display: flex;flex-direction: column;z-index: 1;position: relative;background-color: white;}#sk-container-id-3 div.sk-parallel-item:first-child::after {align-self: flex-end;width: 50%;}#sk-container-id-3 div.sk-parallel-item:last-child::after {align-self: flex-start;width: 50%;}#sk-container-id-3 div.sk-parallel-item:only-child::after {width: 0;}#sk-container-id-3 div.sk-dashed-wrapped {border: 1px dashed gray;margin: 0 0.4em 0.5em 0.4em;box-sizing: border-box;padding-bottom: 0.4em;background-color: white;}#sk-container-id-3 div.sk-label label {font-family: monospace;font-weight: bold;display: inline-block;line-height: 1.2em;}#sk-container-id-3 div.sk-label-container {text-align: center;}#sk-container-id-3 div.sk-container {/* jupyter's `normalize.less` sets `[hidden] { display: none; }` but bootstrap.min.css set `[hidden] { display: none !important; }` so we also need the `!important` here to be able to override the default hidden behavior on the sphinx rendered scikit-learn.org. See: https://github.com/scikit-learn/scikit-learn/issues/21755 */display: inline-block !important;position: relative;}#sk-container-id-3 div.sk-text-repr-fallback {display: none;}</style><div id=\"sk-container-id-3\" class=\"sk-top-container\"><div class=\"sk-text-repr-fallback\"><pre>LinearRegression()</pre><b>In a Jupyter environment, please rerun this cell to show the HTML representation or trust the notebook. <br />On GitHub, the HTML representation is unable to render, please try loading this page with nbviewer.org.</b></div><div class=\"sk-container\" hidden><div class=\"sk-item\"><div class=\"sk-estimator sk-toggleable\"><input class=\"sk-toggleable__control sk-hidden--visually\" id=\"sk-estimator-id-3\" type=\"checkbox\" checked><label for=\"sk-estimator-id-3\" class=\"sk-toggleable__label sk-toggleable__label-arrow\">LinearRegression</label><div class=\"sk-toggleable__content\"><pre>LinearRegression()</pre></div></div></div></div></div>"
      ],
      "text/plain": [
       "LinearRegression()"
      ]
     },
     "execution_count": 57,
     "metadata": {},
     "output_type": "execute_result"
    }
   ],
   "source": [
    "#create linear regression model with training data\n",
    "lr = LinearRegression()\n",
    "lr.fit(X_train, y_train)"
   ]
  },
  {
   "cell_type": "code",
   "execution_count": 58,
   "metadata": {},
   "outputs": [
    {
     "data": {
      "text/html": [
       "<div>\n",
       "<style scoped>\n",
       "    .dataframe tbody tr th:only-of-type {\n",
       "        vertical-align: middle;\n",
       "    }\n",
       "\n",
       "    .dataframe tbody tr th {\n",
       "        vertical-align: top;\n",
       "    }\n",
       "\n",
       "    .dataframe thead th {\n",
       "        text-align: right;\n",
       "    }\n",
       "</style>\n",
       "<table border=\"1\" class=\"dataframe\">\n",
       "  <thead>\n",
       "    <tr style=\"text-align: right;\">\n",
       "      <th></th>\n",
       "      <th>Price</th>\n",
       "      <th>Predicted</th>\n",
       "      <th>Dif</th>\n",
       "      <th>Percent</th>\n",
       "    </tr>\n",
       "  </thead>\n",
       "  <tbody>\n",
       "    <tr>\n",
       "      <th>185</th>\n",
       "      <td>1912500.0</td>\n",
       "      <td>1.277033e+06</td>\n",
       "      <td>635467</td>\n",
       "      <td>0.332270</td>\n",
       "    </tr>\n",
       "    <tr>\n",
       "      <th>278</th>\n",
       "      <td>1490000.0</td>\n",
       "      <td>1.181101e+06</td>\n",
       "      <td>308899</td>\n",
       "      <td>0.207315</td>\n",
       "    </tr>\n",
       "    <tr>\n",
       "      <th>126</th>\n",
       "      <td>1200000.0</td>\n",
       "      <td>1.158006e+06</td>\n",
       "      <td>41993</td>\n",
       "      <td>0.034994</td>\n",
       "    </tr>\n",
       "    <tr>\n",
       "      <th>241</th>\n",
       "      <td>1055000.0</td>\n",
       "      <td>1.442706e+06</td>\n",
       "      <td>-387705</td>\n",
       "      <td>-0.367493</td>\n",
       "    </tr>\n",
       "    <tr>\n",
       "      <th>162</th>\n",
       "      <td>1160000.0</td>\n",
       "      <td>1.462210e+06</td>\n",
       "      <td>-302210</td>\n",
       "      <td>-0.260526</td>\n",
       "    </tr>\n",
       "    <tr>\n",
       "      <th>...</th>\n",
       "      <td>...</td>\n",
       "      <td>...</td>\n",
       "      <td>...</td>\n",
       "      <td>...</td>\n",
       "    </tr>\n",
       "    <tr>\n",
       "      <th>206</th>\n",
       "      <td>2105529.0</td>\n",
       "      <td>2.222294e+06</td>\n",
       "      <td>-116764</td>\n",
       "      <td>-0.055456</td>\n",
       "    </tr>\n",
       "    <tr>\n",
       "      <th>212</th>\n",
       "      <td>1684100.0</td>\n",
       "      <td>1.496117e+06</td>\n",
       "      <td>187983</td>\n",
       "      <td>0.111622</td>\n",
       "    </tr>\n",
       "    <tr>\n",
       "      <th>141</th>\n",
       "      <td>1560000.0</td>\n",
       "      <td>1.295102e+06</td>\n",
       "      <td>264898</td>\n",
       "      <td>0.169806</td>\n",
       "    </tr>\n",
       "    <tr>\n",
       "      <th>230</th>\n",
       "      <td>1375000.0</td>\n",
       "      <td>1.380235e+06</td>\n",
       "      <td>-5234</td>\n",
       "      <td>-0.003807</td>\n",
       "    </tr>\n",
       "    <tr>\n",
       "      <th>326</th>\n",
       "      <td>1150000.0</td>\n",
       "      <td>1.087142e+06</td>\n",
       "      <td>62857</td>\n",
       "      <td>0.054658</td>\n",
       "    </tr>\n",
       "  </tbody>\n",
       "</table>\n",
       "<p>126 rows × 4 columns</p>\n",
       "</div>"
      ],
      "text/plain": [
       "         Price     Predicted     Dif   Percent\n",
       "185  1912500.0  1.277033e+06  635467  0.332270\n",
       "278  1490000.0  1.181101e+06  308899  0.207315\n",
       "126  1200000.0  1.158006e+06   41993  0.034994\n",
       "241  1055000.0  1.442706e+06 -387705 -0.367493\n",
       "162  1160000.0  1.462210e+06 -302210 -0.260526\n",
       "..         ...           ...     ...       ...\n",
       "206  2105529.0  2.222294e+06 -116764 -0.055456\n",
       "212  1684100.0  1.496117e+06  187983  0.111622\n",
       "141  1560000.0  1.295102e+06  264898  0.169806\n",
       "230  1375000.0  1.380235e+06   -5234 -0.003807\n",
       "326  1150000.0  1.087142e+06   62857  0.054658\n",
       "\n",
       "[126 rows x 4 columns]"
      ]
     },
     "execution_count": 58,
     "metadata": {},
     "output_type": "execute_result"
    }
   ],
   "source": [
    "y_pred = lr.predict(X_test) #use model to predict on testing set\n",
    "\n",
    "predicted_df = pd.DataFrame(y_test) #price listings of actual prices sold\n",
    "predicted_df['Predicted'] = y_pred #prices that we predicted\n",
    "\n",
    "predicted_df['Dif'] = (predicted_df['Price'] - predicted_df['Predicted']).astype(int) #compare difference in prices\n",
    "predicted_df['Percent'] = (predicted_df['Dif'] / predicted_df['Price']) #find percentage\n",
    "predicted_df"
   ]
  },
  {
   "cell_type": "code",
   "execution_count": 66,
   "metadata": {},
   "outputs": [
    {
     "name": "stdout",
     "output_type": "stream",
     "text": [
      "-2.6534877636226466\n"
     ]
    },
    {
     "data": {
      "text/plain": [
       "0.20082997966938226"
      ]
     },
     "execution_count": 66,
     "metadata": {},
     "output_type": "execute_result"
    }
   ],
   "source": [
    "print(predicted_df['Percent'].sum()) #negative number means we tend to under estimate price\n",
    "\n",
    "result = predicted_df['Percent'].abs()\n",
    "result.sum()/result.shape[0] #our model is off on average 20%"
   ]
  },
  {
   "cell_type": "code",
   "execution_count": 60,
   "metadata": {},
   "outputs": [
    {
     "data": {
      "image/png": "[encoded data removed]",
      "text/plain": [
       "<Figure size 640x480 with 1 Axes>"
      ]
     },
     "metadata": {},
     "output_type": "display_data"
    }
   ],
   "source": [
    "plt.scatter(predicted_df['Dif'], predicted_df['Percent'])\n",
    "plt.show()"
   ]
  },
  {
   "cell_type": "markdown",
   "metadata": {},
   "source": [
    "# Analysis for houses currently listed for sale"
   ]
  },
  {
   "cell_type": "code",
   "execution_count": 61,
   "metadata": {},
   "outputs": [],
   "source": [
    "sale_predictors = for_sale[['Square Ft', 'Beds', 'Baths', 'Year Built', 'Lot Size', 'Stories']]\n",
    "sale_target = for_sale[['Price']]\n",
    "X_train_sale, X_test_sale, y_train_sale, y_test_sale = train_test_split(sale_predictors, sale_target, test_size = 46, random_state = 21) #use all data for test size"
   ]
  },
  {
   "cell_type": "code",
   "execution_count": 62,
   "metadata": {},
   "outputs": [
    {
     "data": {
      "text/html": [
       "<div>\n",
       "<style scoped>\n",
       "    .dataframe tbody tr th:only-of-type {\n",
       "        vertical-align: middle;\n",
       "    }\n",
       "\n",
       "    .dataframe tbody tr th {\n",
       "        vertical-align: top;\n",
       "    }\n",
       "\n",
       "    .dataframe thead th {\n",
       "        text-align: right;\n",
       "    }\n",
       "</style>\n",
       "<table border=\"1\" class=\"dataframe\">\n",
       "  <thead>\n",
       "    <tr style=\"text-align: right;\">\n",
       "      <th></th>\n",
       "      <th>Price</th>\n",
       "      <th>Predicted</th>\n",
       "      <th>Dif</th>\n",
       "      <th>Percent</th>\n",
       "    </tr>\n",
       "  </thead>\n",
       "  <tbody>\n",
       "    <tr>\n",
       "      <th>30</th>\n",
       "      <td>1499000.0</td>\n",
       "      <td>1.543483e+06</td>\n",
       "      <td>-44482</td>\n",
       "      <td>-0.029674</td>\n",
       "    </tr>\n",
       "    <tr>\n",
       "      <th>58</th>\n",
       "      <td>1395000.0</td>\n",
       "      <td>1.633672e+06</td>\n",
       "      <td>-238671</td>\n",
       "      <td>-0.171090</td>\n",
       "    </tr>\n",
       "    <tr>\n",
       "      <th>44</th>\n",
       "      <td>898000.0</td>\n",
       "      <td>1.212287e+06</td>\n",
       "      <td>-314287</td>\n",
       "      <td>-0.349986</td>\n",
       "    </tr>\n",
       "    <tr>\n",
       "      <th>25</th>\n",
       "      <td>1649500.0</td>\n",
       "      <td>1.650721e+06</td>\n",
       "      <td>-1221</td>\n",
       "      <td>-0.000740</td>\n",
       "    </tr>\n",
       "    <tr>\n",
       "      <th>28</th>\n",
       "      <td>1699900.0</td>\n",
       "      <td>1.839458e+06</td>\n",
       "      <td>-139558</td>\n",
       "      <td>-0.082098</td>\n",
       "    </tr>\n",
       "  </tbody>\n",
       "</table>\n",
       "</div>"
      ],
      "text/plain": [
       "        Price     Predicted     Dif   Percent\n",
       "30  1499000.0  1.543483e+06  -44482 -0.029674\n",
       "58  1395000.0  1.633672e+06 -238671 -0.171090\n",
       "44   898000.0  1.212287e+06 -314287 -0.349986\n",
       "25  1649500.0  1.650721e+06   -1221 -0.000740\n",
       "28  1699900.0  1.839458e+06 -139558 -0.082098"
      ]
     },
     "execution_count": 62,
     "metadata": {},
     "output_type": "execute_result"
    }
   ],
   "source": [
    "y_pred_sale = lr.predict(X_test_sale) #use model to predict on testing set\n",
    "\n",
    "predicted_df_sale = pd.DataFrame(y_test_sale) #price listings of actual prices sold\n",
    "predicted_df_sale['Predicted'] = y_pred_sale #prices that we predicted\n",
    "\n",
    "predicted_df_sale['Dif'] = (predicted_df_sale['Price'] - predicted_df_sale['Predicted']).astype(int)\n",
    "predicted_df_sale['Percent'] = (predicted_df_sale['Dif'] / predicted_df_sale['Price'])\n",
    "predicted_df_sale.head()"
   ]
  },
  {
   "cell_type": "code",
   "execution_count": 64,
   "metadata": {},
   "outputs": [
    {
     "name": "stdout",
     "output_type": "stream",
     "text": [
      "-8.718050305798227\n",
      "0.21979987200753973\n"
     ]
    }
   ],
   "source": [
    "print(predicted_df_sale['Percent'].sum()) #again we under estimate prices\n",
    "\n",
    "result = predicted_df_sale['Percent'].abs()\n",
    "avg_percent_dif = result.sum()/result.shape[0]\n",
    "print(avg_percent_dif) #off on average around 22%, keep in mind these houses havent sold yet so our model might indicate that these houses can sell for different values\n"
   ]
  },
  {
   "cell_type": "code",
   "execution_count": null,
   "metadata": {},
   "outputs": [
    {
     "data": {
      "image/png": "[encoded data removed]",
      "text/plain": [
       "<Figure size 640x480 with 1 Axes>"
      ]
     },
     "metadata": {},
     "output_type": "display_data"
    }
   ],
   "source": [
    "#plot shows our under estimation of prices, could be due to inflation?\n",
    "plt.scatter(predicted_df_sale['Dif'], predicted_df_sale['Percent'])\n",
    "plt.show()\n"
   ]
  }
 ],
 "metadata": {
  "kernelspec": {
   "display_name": "Python 3",
   "language": "python",
   "name": "python3"
  },
  "language_info": {
   "codemirror_mode": {
    "name": "ipython",
    "version": 3
   },
   "file_extension": ".py",
   "mimetype": "text/x-python",
   "name": "python",
   "nbconvert_exporter": "python",
   "pygments_lexer": "ipython3",
   "version": "3.11.3"
  },
  "orig_nbformat": 4
 },
 "nbformat": 4,
 "nbformat_minor": 2
}
